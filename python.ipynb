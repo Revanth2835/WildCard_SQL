{
 "cells": [
  {
   "cell_type": "code",
   "execution_count": 1,
   "id": "5d44eb5b",
   "metadata": {},
   "outputs": [
    {
     "name": "stdout",
     "output_type": "stream",
     "text": [
      "10\n"
     ]
    }
   ],
   "source": [
    "print(10)"
   ]
  },
  {
   "cell_type": "code",
   "execution_count": 2,
   "id": "7cc908f0",
   "metadata": {},
   "outputs": [
    {
     "name": "stdout",
     "output_type": "stream",
     "text": [
      "length of matrix 3\n",
      "count 4\n"
     ]
    }
   ],
   "source": [
    "x=[[1,2,3],[4,5,6],[7,8,9]]\n",
    "print(\"length of matrix\",len(x))\n",
    "\n",
    "# for row in x:\n",
    "#     print(row)\n",
    "\n",
    "#printing number of even nums in matrix\n",
    "count=0\n",
    "for row in x:\n",
    "    for i in row:\n",
    "        if(i%2==0):\n",
    "            count+=1 \n",
    "print(\"count\",count) \n",
    "\n"
   ]
  },
  {
   "cell_type": "code",
   "execution_count": 3,
   "id": "6d5fae6a",
   "metadata": {},
   "outputs": [
    {
     "name": "stdout",
     "output_type": "stream",
     "text": [
      "sum of values:  45\n"
     ]
    }
   ],
   "source": [
    "#sum of all nums \n",
    "sum=0\n",
    "for row in x:\n",
    "    for i in  row:\n",
    "        sum+=i \n",
    "print(\"sum of values: \",sum)"
   ]
  },
  {
   "cell_type": "code",
   "execution_count": 4,
   "id": "577afb38",
   "metadata": {},
   "outputs": [
    {
     "name": "stdout",
     "output_type": "stream",
     "text": [
      "max num : 3\n",
      "max num : 6\n",
      "max num : 9\n"
     ]
    }
   ],
   "source": [
    "# find max num in each row \n",
    "\n",
    "for row in x:\n",
    "    print( \"max num :\",max(row))"
   ]
  },
  {
   "cell_type": "code",
   "execution_count": 5,
   "id": "0a54ff1a",
   "metadata": {},
   "outputs": [
    {
     "name": "stdout",
     "output_type": "stream",
     "text": [
      "1\n",
      "5\n",
      "9\n"
     ]
    }
   ],
   "source": [
    "# print left diagonal values \n",
    "ln = len(x)\n",
    "for i in range(ln):\n",
    "    for j in range(ln):\n",
    "        if(i==j):\n",
    "            print(x[i][j]) \n",
    "    "
   ]
  },
  {
   "cell_type": "code",
   "execution_count": 6,
   "id": "a320dc37",
   "metadata": {},
   "outputs": [
    {
     "name": "stdout",
     "output_type": "stream",
     "text": [
      "1\n",
      "5\n",
      "9\n"
     ]
    }
   ],
   "source": [
    "\n",
    "#print the left or main diagonal:\n",
    "\n",
    "for i in range(ln):\n",
    "    print(x[i][i])\n",
    "    \n",
    "    "
   ]
  },
  {
   "cell_type": "code",
   "execution_count": 7,
   "id": "afd9b97d",
   "metadata": {},
   "outputs": [
    {
     "name": "stdout",
     "output_type": "stream",
     "text": [
      "-85\n"
     ]
    }
   ],
   "source": [
    "#min in left diagonal \n",
    "\n",
    "x=[[1,2,3],[-100,-85,6],[7,8,-9]]\n",
    "\n",
    "m=-1 \n",
    "for i in range(3):\n",
    "    m=min(m,x[i][i])  \n",
    "\n",
    "# for i in range(3):\n",
    "#     if m > x[i][i]:\n",
    "#         m=x[i][i]\n",
    "\n",
    "print(m)"
   ]
  },
  {
   "cell_type": "code",
   "execution_count": 8,
   "id": "504b9355",
   "metadata": {},
   "outputs": [
    {
     "name": "stdout",
     "output_type": "stream",
     "text": [
      "2\n"
     ]
    }
   ],
   "source": [
    "# count of zeroes in right diagonal \n",
    "x=[[1,2,0],\n",
    "   [4,-5,6],\n",
    "   [0,8,-9]] \n",
    "\n",
    "# ls =[]\n",
    "# for i in range(ln):\n",
    "#     ls.append(x[i][ln-i-1])  \n",
    "# count = [v for v in ls if v==0]  \n",
    "# print(\"count\",len(count)) \n",
    "\n",
    "n=len(x)\n",
    "count=0\n",
    "for i in range(n):\n",
    "    if x[i][n-i-1]==0:\n",
    "        count+=1 \n",
    "print(count)"
   ]
  },
  {
   "cell_type": "code",
   "execution_count": 9,
   "id": "8381e0d5",
   "metadata": {},
   "outputs": [
    {
     "name": "stdout",
     "output_type": "stream",
     "text": [
      "lower triangular matrix\n"
     ]
    }
   ],
   "source": [
    "#to find whether a given matrix is lower traingular matrix or not \n",
    "x=[[1,0,0],\n",
    "   [4,-5,0],\n",
    "   [7,8,-9]]\n",
    "n=len(x)\n",
    "flag=False\n",
    "for i in range(n):\n",
    "    for j in range(i+1,n):\n",
    "        if x[i][j]==0:\n",
    "            flag=True \n",
    "            break \n",
    "if flag:    \n",
    "    print(\"lower triangular matrix\")\n",
    "else:\n",
    "    print(\"not a lower triangular matrix\")"
   ]
  },
  {
   "cell_type": "code",
   "execution_count": 10,
   "id": "c7aac25b",
   "metadata": {},
   "outputs": [
    {
     "name": "stdout",
     "output_type": "stream",
     "text": [
      "10\n"
     ]
    }
   ],
   "source": [
    "print(10)"
   ]
  },
  {
   "cell_type": "code",
   "execution_count": null,
   "id": "0a20620b",
   "metadata": {},
   "outputs": [
    {
     "name": "stdout",
     "output_type": "stream",
     "text": [
      "column nums are : [12, 15, 18]\n",
      "Maximum column sum:  18\n"
     ]
    }
   ],
   "source": [
    "#find the max column sum from 3 x 3 matrix\n",
    "# ******* \n",
    "n=[[1,2,3],\n",
    "   [4,5,6]\n",
    "   ,[7,8,9]] \n",
    "col_sums =[0,0,0]\n",
    "\n",
    "for row in n:\n",
    "    for j in range(len(n)):\n",
    "        col_sums[j]+=row[j]\n",
    "print(\"column nums are :\",col_sums)\n",
    "print(\"Maximum column sum: \",max(col_sums))"
   ]
  },
  {
   "cell_type": "code",
   "execution_count": null,
   "id": "2197a6d4",
   "metadata": {},
   "outputs": [
    {
     "name": "stdout",
     "output_type": "stream",
     "text": [
      "Transposed matrix:\n",
      "[1, 2, 3]\n",
      "[4, 5, 6]\n",
      "[7, 8, 9]\n",
      "Another method of doing  output:\n",
      "[1, 4, 7]\n",
      "[2, 5, 8]\n",
      "[3, 6, 9]\n"
     ]
    }
   ],
   "source": [
    "# [[n[j][i] for j in range(len(n))] for i in range(len(n))]\n",
    "# transpose of matrix\n",
    "n=[[1,2,3],\n",
    "   [4,5,6],\n",
    "   [7,8,9]]\n",
    "transposed = []\n",
    "for i in range(len(n)):\n",
    "    row=[]\n",
    "    for j in range(len(n)):\n",
    "        row.append(n[j][i])\n",
    "    transposed.append(row)\n",
    "print(\"Transposed matrix:\") \n",
    "for row in transposed:\n",
    "    print(row)\n",
    "\n",
    "result = []\n",
    "for i in range(len(n)):\n",
    "    new_row =[]\n",
    "    for row in  n:\n",
    "        new_row.append(row[i])\n",
    "    result.append(new_row)\n",
    "print(\"Another method of doing  output:\")\n",
    "for row in result:\n",
    "    print(row)"
   ]
  },
  {
   "cell_type": "code",
   "execution_count": 33,
   "id": "087cbea0",
   "metadata": {},
   "outputs": [
    {
     "name": "stdout",
     "output_type": "stream",
     "text": [
      "18\n"
     ]
    }
   ],
   "source": [
    "# output is 16 and need to find the maximum number in the row, sum of maximum number in each row if maximum number meets the same column coordinate go for another maximum number in the row and sum them\n",
    "n=[[1,2,3],\n",
    "   [4,5,6],\n",
    "   [7,9,8]]\n",
    "sm =0\n",
    "for i in range(len(n)):\n",
    "    for j in range(len(n)):\n",
    "        if n[i][j]==max(n[i]):\n",
    "            sm+=max(n[i])\n",
    "print(sm)\n"
   ]
  },
  {
   "cell_type": "code",
   "execution_count": 35,
   "id": "9376afc0",
   "metadata": {},
   "outputs": [
    {
     "name": "stdout",
     "output_type": "stream",
     "text": [
      "Sum of maximums: 15\n"
     ]
    }
   ],
   "source": [
    "def find_max_sum(matrix):\n",
    "    n = len(matrix)\n",
    "    used_cols = set()\n",
    "    total = 0\n",
    "    \n",
    "    # For each row\n",
    "    for i in range(n):\n",
    "        # Create list of (value, column) pairs for current row\n",
    "        row_vals = [(val, j) for j, val in enumerate(matrix[i])]\n",
    "        # Sort by value in descending order\n",
    "        row_vals.sort(reverse=True)\n",
    "        \n",
    "        # Find first maximum that doesn't use an already used column\n",
    "        for val, col in row_vals:\n",
    "            if col not in used_cols:\n",
    "                total += val\n",
    "                used_cols.add(col)\n",
    "                break\n",
    "                \n",
    "    return total\n",
    "\n",
    "n = [[1,2,3],\n",
    "     [4,5,6],\n",
    "     [7,9,8]]\n",
    "\n",
    "result = find_max_sum(n)\n",
    "print(\"Sum of maximums:\", result)  # Output: 16 (3 + 4 + 9)"
   ]
  },
  {
   "cell_type": "code",
   "execution_count": 39,
   "id": "24e6ca5c",
   "metadata": {},
   "outputs": [
    {
     "name": "stdout",
     "output_type": "stream",
     "text": [
      "16\n"
     ]
    }
   ],
   "source": [
    "# output is 16 and need to find the maximum number in the row, sum of maximum number in each row if maximum number meets the same column coordinate go for another maximum number in the row and sum them\n",
    "n=[[1,2,3],\n",
    "   [4,5,6],\n",
    "   [7,9,8]]\n",
    "prev=-1\n",
    "sm =0\n",
    "for i in range(len(n)):\n",
    "    max_value =0\n",
    "    jn_index =0\n",
    "    for j in range(len(n)):\n",
    "        if j !=prev:\n",
    "            if max_value < n[i][j]:\n",
    "                max_value = n[i][j] \n",
    "                jn_index = j\n",
    "    prev = jn_index\n",
    "    sm += max_value\n",
    "print(sm)\n",
    "\n",
    "                \n",
    "\n",
    "            \n",
    "            "
   ]
  },
  {
   "cell_type": "code",
   "execution_count": null,
   "id": "e53d0d9c",
   "metadata": {},
   "outputs": [
    {
     "name": "stdout",
     "output_type": "stream",
     "text": [
      "Sum of maximum values with unique columns: 15\n"
     ]
    }
   ],
   "source": []
  },
  {
   "cell_type": "code",
   "execution_count": null,
   "id": "00cf93a2",
   "metadata": {},
   "outputs": [],
   "source": []
  }
 ],
 "metadata": {
  "kernelspec": {
   "display_name": "Python 3",
   "language": "python",
   "name": "python3"
  },
  "language_info": {
   "codemirror_mode": {
    "name": "ipython",
    "version": 3
   },
   "file_extension": ".py",
   "mimetype": "text/x-python",
   "name": "python",
   "nbconvert_exporter": "python",
   "pygments_lexer": "ipython3",
   "version": "3.13.5"
  }
 },
 "nbformat": 4,
 "nbformat_minor": 5
}
