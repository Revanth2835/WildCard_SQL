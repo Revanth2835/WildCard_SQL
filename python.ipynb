{
 "cells": [
  {
   "cell_type": "code",
   "execution_count": 2,
   "id": "5d44eb5b",
   "metadata": {},
   "outputs": [
    {
     "name": "stdout",
     "output_type": "stream",
     "text": [
      "10\n"
     ]
    }
   ],
   "source": [
    "print(10)"
   ]
  },
  {
   "cell_type": "code",
   "execution_count": null,
   "id": "7cc908f0",
   "metadata": {},
   "outputs": [
    {
     "name": "stdout",
     "output_type": "stream",
     "text": [
      "length o matrix 3\n",
      "count 4\n"
     ]
    }
   ],
   "source": [
    "x=[[1,2,3],[4,5,6],[7,8,9]]\n",
    "print(\"length of matrix\",len(x))\n",
    "\n",
    "# for row in x:\n",
    "#     print(row)\n",
    "\n",
    "#printing number of even nums in matrix\n",
    "count=0\n",
    "for row in x:\n",
    "    for i in row:\n",
    "        if(i%2==0):\n",
    "            count+=1 \n",
    "print(\"count\",count) \n",
    "\n"
   ]
  },
  {
   "cell_type": "code",
   "execution_count": null,
   "id": "6d5fae6a",
   "metadata": {},
   "outputs": [
    {
     "name": "stdout",
     "output_type": "stream",
     "text": [
      "sum of values:  45\n"
     ]
    }
   ],
   "source": [
    "#sum of all nums \n",
    "sum=0\n",
    "for row in x:\n",
    "    for i in  row:\n",
    "        sum+=i \n",
    "print(\"sum of values: \",sum)"
   ]
  },
  {
   "cell_type": "code",
   "execution_count": null,
   "id": "577afb38",
   "metadata": {},
   "outputs": [
    {
     "name": "stdout",
     "output_type": "stream",
     "text": [
      "max num : 3\n",
      "max num : 6\n",
      "max num : 9\n"
     ]
    }
   ],
   "source": [
    "# find max num in each row \n",
    "\n",
    "for row in x:\n",
    "    print( \"max num :\",max(row))"
   ]
  },
  {
   "cell_type": "code",
   "execution_count": null,
   "id": "0a54ff1a",
   "metadata": {},
   "outputs": [
    {
     "name": "stdout",
     "output_type": "stream",
     "text": [
      "1\n",
      "5\n",
      "9\n"
     ]
    }
   ],
   "source": [
    "# print left diagonal values \n",
    "ln = len(x)\n",
    "for i in range(ln):\n",
    "    for j in range(ln):\n",
    "        if(i==j):\n",
    "            print(x[i][j]) \n",
    "    "
   ]
  },
  {
   "cell_type": "code",
   "execution_count": null,
   "id": "a320dc37",
   "metadata": {},
   "outputs": [
    {
     "name": "stdout",
     "output_type": "stream",
     "text": [
      "1\n",
      "5\n",
      "9\n"
     ]
    }
   ],
   "source": [
    "\n",
    "#print the left or main diagonal:\n",
    "\n",
    "for i in range(ln):\n",
    "    print(x[i][i])\n",
    "    \n",
    "    "
   ]
  },
  {
   "cell_type": "code",
   "execution_count": null,
   "id": "afd9b97d",
   "metadata": {},
   "outputs": [
    {
     "name": "stdout",
     "output_type": "stream",
     "text": [
      "-85\n"
     ]
    }
   ],
   "source": [
    "#min in left diagonal \n",
    "\n",
    "x=[[1,2,3],[-100,-85,6],[7,8,-9]]\n",
    "\n",
    "m=-1 \n",
    "for i in range(3):\n",
    "    m=min(m,x[i][i])  \n",
    "\n",
    "# for i in range(3):\n",
    "#     if m > x[i][i]:\n",
    "#         m=x[i][i]\n",
    "\n",
    "print(m)"
   ]
  },
  {
   "cell_type": "code",
   "execution_count": null,
   "id": "504b9355",
   "metadata": {},
   "outputs": [
    {
     "name": "stdout",
     "output_type": "stream",
     "text": [
      "2\n"
     ]
    }
   ],
   "source": [
    "# count of zeroes in right diagonal \n",
    "x=[[1,2,0],\n",
    "   [4,-5,6],\n",
    "   [0,8,-9]] \n",
    "\n",
    "# ls =[]\n",
    "# for i in range(ln):\n",
    "#     ls.append(x[i][ln-i-1])  \n",
    "# count = [v for v in ls if v==0]  \n",
    "# print(\"count\",len(count)) \n",
    "\n",
    "n=len(x)\n",
    "count=0\n",
    "for i in range(n):\n",
    "    if x[i][n-i-1]==0:\n",
    "        count+=1 \n",
    "print(count)"
   ]
  },
  {
   "cell_type": "code",
   "execution_count": 8,
   "id": "8381e0d5",
   "metadata": {},
   "outputs": [
    {
     "name": "stdout",
     "output_type": "stream",
     "text": [
      "lower triangular matrix\n"
     ]
    }
   ],
   "source": [
    "#to find whether a given matrix is lower traingular matrix or not \n",
    "x=[[1,0,0],\n",
    "   [4,-5,0],\n",
    "   [7,8,-9]]\n",
    "n=len(x)\n",
    "flag=False\n",
    "for i in range(n):\n",
    "    for j in range(i+1,n):\n",
    "        if x[i][j]==0:\n",
    "            flag=True \n",
    "            break \n",
    "if flag:    \n",
    "    print(\"lower triangular matrix\")\n",
    "else:\n",
    "    print(\"not a lower triangular matrix\")"
   ]
  },
  {
   "cell_type": "code",
   "execution_count": null,
   "id": "c7aac25b",
   "metadata": {},
   "outputs": [],
   "source": []
  }
 ],
 "metadata": {
  "kernelspec": {
   "display_name": "base",
   "language": "python",
   "name": "python3"
  },
  "language_info": {
   "codemirror_mode": {
    "name": "ipython",
    "version": 3
   },
   "file_extension": ".py",
   "mimetype": "text/x-python",
   "name": "python",
   "nbconvert_exporter": "python",
   "pygments_lexer": "ipython3",
   "version": "3.12.7"
  }
 },
 "nbformat": 4,
 "nbformat_minor": 5
}
